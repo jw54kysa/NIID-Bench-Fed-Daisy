{
 "cells": [
  {
   "cell_type": "code",
   "id": "initial_id",
   "metadata": {
    "collapsed": true,
    "ExecuteTime": {
     "end_time": "2025-01-17T19:17:12.408304Z",
     "start_time": "2025-01-17T19:17:12.400284Z"
    }
   },
   "source": [
    "import pandas as pd\n",
    "\n",
    "df = pd.read_csv('results/cifar10/iid-diff-quantity/fedavg/simple-cnn/global_results-2025-01-17-19:41-52.csv')\n",
    "df.set_index(df.columns[0], inplace=True)\n",
    "df.head()"
   ],
   "outputs": [
    {
     "data": {
      "text/plain": [
       "            Round  Test Accuracy  \\\n",
       "Unnamed: 0                         \n",
       "0               0         0.4171   \n",
       "1               1         0.5487   \n",
       "2               2         0.5942   \n",
       "3               3         0.6233   \n",
       "4               4         0.6432   \n",
       "\n",
       "                                             Confusion Matrix  \n",
       "Unnamed: 0                                                     \n",
       "0           [[387, 120, 5, 24, 24, 1, 29, 79, 174, 157], [...  \n",
       "1           [[604, 44, 51, 5, 13, 11, 21, 18, 165, 68], [3...  \n",
       "2           [[548, 56, 29, 16, 31, 15, 22, 26, 156, 101], ...  \n",
       "3           [[679, 45, 38, 8, 16, 7, 23, 13, 113, 58], [26...  \n",
       "4           [[691, 28, 29, 7, 26, 8, 28, 24, 95, 64], [16,...  "
      ],
      "text/html": [
       "<div>\n",
       "<style scoped>\n",
       "    .dataframe tbody tr th:only-of-type {\n",
       "        vertical-align: middle;\n",
       "    }\n",
       "\n",
       "    .dataframe tbody tr th {\n",
       "        vertical-align: top;\n",
       "    }\n",
       "\n",
       "    .dataframe thead th {\n",
       "        text-align: right;\n",
       "    }\n",
       "</style>\n",
       "<table border=\"1\" class=\"dataframe\">\n",
       "  <thead>\n",
       "    <tr style=\"text-align: right;\">\n",
       "      <th></th>\n",
       "      <th>Round</th>\n",
       "      <th>Test Accuracy</th>\n",
       "      <th>Confusion Matrix</th>\n",
       "    </tr>\n",
       "    <tr>\n",
       "      <th>Unnamed: 0</th>\n",
       "      <th></th>\n",
       "      <th></th>\n",
       "      <th></th>\n",
       "    </tr>\n",
       "  </thead>\n",
       "  <tbody>\n",
       "    <tr>\n",
       "      <th>0</th>\n",
       "      <td>0</td>\n",
       "      <td>0.4171</td>\n",
       "      <td>[[387, 120, 5, 24, 24, 1, 29, 79, 174, 157], [...</td>\n",
       "    </tr>\n",
       "    <tr>\n",
       "      <th>1</th>\n",
       "      <td>1</td>\n",
       "      <td>0.5487</td>\n",
       "      <td>[[604, 44, 51, 5, 13, 11, 21, 18, 165, 68], [3...</td>\n",
       "    </tr>\n",
       "    <tr>\n",
       "      <th>2</th>\n",
       "      <td>2</td>\n",
       "      <td>0.5942</td>\n",
       "      <td>[[548, 56, 29, 16, 31, 15, 22, 26, 156, 101], ...</td>\n",
       "    </tr>\n",
       "    <tr>\n",
       "      <th>3</th>\n",
       "      <td>3</td>\n",
       "      <td>0.6233</td>\n",
       "      <td>[[679, 45, 38, 8, 16, 7, 23, 13, 113, 58], [26...</td>\n",
       "    </tr>\n",
       "    <tr>\n",
       "      <th>4</th>\n",
       "      <td>4</td>\n",
       "      <td>0.6432</td>\n",
       "      <td>[[691, 28, 29, 7, 26, 8, 28, 24, 95, 64], [16,...</td>\n",
       "    </tr>\n",
       "  </tbody>\n",
       "</table>\n",
       "</div>"
      ]
     },
     "execution_count": 3,
     "metadata": {},
     "output_type": "execute_result"
    }
   ],
   "execution_count": 3
  },
  {
   "metadata": {
    "ExecuteTime": {
     "end_time": "2025-01-17T19:21:46.150872Z",
     "start_time": "2025-01-17T19:21:46.096620Z"
    }
   },
   "cell_type": "code",
   "source": [
    "import matplotlib.pyplot as plt\n",
    "\n",
    "# Plot using Matplotlib\n",
    "plt.plot(df['Round'], df['Test Accuracy'], marker='o')\n",
    "plt.xlabel('Round')\n",
    "plt.ylabel('Test Accuracy')\n",
    "plt.title('Test Accuracy over Rounds')\n",
    "plt.grid(True)\n",
    "plt.show()"
   ],
   "id": "30d62e61e44333dd",
   "outputs": [
    {
     "data": {
      "text/plain": [
       "<Figure size 640x480 with 1 Axes>"
      ],
      "image/png": "[encoded data removed]"
     },
     "metadata": {},
     "output_type": "display_data"
    }
   ],
   "execution_count": 13
  },
  {
   "metadata": {},
   "cell_type": "code",
   "outputs": [],
   "execution_count": null,
   "source": "",
   "id": "d1c28937fc1d2573"
  }
 ],
 "metadata": {
  "kernelspec": {
   "display_name": "Python 3",
   "language": "python",
   "name": "python3"
  },
  "language_info": {
   "codemirror_mode": {
    "name": "ipython",
    "version": 2
   },
   "file_extension": ".py",
   "mimetype": "text/x-python",
   "name": "python",
   "nbconvert_exporter": "python",
   "pygments_lexer": "ipython2",
   "version": "2.7.6"
  }
 },
 "nbformat": 4,
 "nbformat_minor": 5
}
